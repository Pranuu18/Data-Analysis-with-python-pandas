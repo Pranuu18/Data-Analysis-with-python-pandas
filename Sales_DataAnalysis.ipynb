{
  "nbformat": 4,
  "nbformat_minor": 0,
  "metadata": {
    "colab": {
      "provenance": [],
      "authorship_tag": "ABX9TyMj92XW/EIvCqhHsMEq+V05",
      "include_colab_link": true
    },
    "kernelspec": {
      "name": "python3",
      "display_name": "Python 3"
    },
    "language_info": {
      "name": "python"
    }
  },
  "cells": [
    {
      "cell_type": "markdown",
      "metadata": {
        "id": "view-in-github",
        "colab_type": "text"
      },
      "source": [
        "<a href=\"https://colab.research.google.com/github/Pranuu18/Data-Analysis-with-python-pandas/blob/main/Sales_DataAnalysis.ipynb\" target=\"_parent\"><img src=\"https://colab.research.google.com/assets/colab-badge.svg\" alt=\"Open In Colab\"/></a>"
      ]
    },
    {
      "cell_type": "markdown",
      "source": [
        "# **Import the required Libraries**"
      ],
      "metadata": {
        "id": "y8ch1jwCS6FJ"
      }
    },
    {
      "cell_type": "code",
      "execution_count": null,
      "metadata": {
        "id": "s9MlKtdeQHun"
      },
      "outputs": [],
      "source": [
        "import pandas as pd\n",
        "import numpy as np\n",
        "import matplotlib.pyplot as plt\n",
        "import seaborn as sns\n"
      ]
    },
    {
      "cell_type": "markdown",
      "source": [
        "# **Loading datasets**"
      ],
      "metadata": {
        "id": "-ZYVuggDTDs5"
      }
    },
    {
      "cell_type": "code",
      "source": [
        "customer_data = pd.read_csv(\"customer.csv\")\n",
        "sales_data = pd.read_csv(\"sales_dataset.csv\", low_memory=False)\n",
        "order_data = pd.read_csv(\"order.csv\")\n",
        "data_of_March_2021 = pd.read_csv(\"data_of_March_2021.csv\")\n",
        "data_of_May_2022 = pd.read_csv(\"data_of_May_2022.csv\")\n",
        "\n"
      ],
      "metadata": {
        "id": "iOvNJCjXQPnC"
      },
      "execution_count": null,
      "outputs": []
    },
    {
      "cell_type": "markdown",
      "source": [
        "# **Reading the data**"
      ],
      "metadata": {
        "id": "1cr_6yssTNff"
      }
    },
    {
      "cell_type": "code",
      "source": [
        "customer_data.head()\n",
        "order_data.head()\n",
        "sales_data.head()\n",
        "data_of_March_2021.head()\n",
        "data_of_May_2022.head()"
      ],
      "metadata": {
        "colab": {
          "base_uri": "https://localhost:8080/",
          "height": 261
        },
        "id": "VI6Cev44R4RB",
        "outputId": "19ac127c-f70d-4082-cfdf-5a6901cdbd16"
      },
      "execution_count": null,
      "outputs": [
        {
          "output_type": "execute_result",
          "data": {
            "text/plain": [
              "   index             Sku    Style Id  Catalog Category Weight   TP MRP Old  \\\n",
              "0      0    Os206_3141_S  Os206_3141  Moments    Kurta    0.3  538    2178   \n",
              "1      1    Os206_3141_M  Os206_3141  Moments    Kurta    0.3  538    2178   \n",
              "2      2    Os206_3141_L  Os206_3141  Moments    Kurta    0.3  538    2178   \n",
              "3      3   Os206_3141_XL  Os206_3141  Moments    Kurta    0.3  538    2178   \n",
              "4      4  Os206_3141_2XL  Os206_3141  Moments    Kurta    0.3  538    2178   \n",
              "\n",
              "  Final MRP Old Ajio MRP Amazon MRP Amazon FBA MRP Flipkart MRP Limeroad MRP  \\\n",
              "0          2345     2345       2345           2345         2345         2345   \n",
              "1          2345     2345       2345           2345         2345         2345   \n",
              "2          2345     2345       2345           2345         2345         2345   \n",
              "3          2345     2345       2345           2345         2345         2345   \n",
              "4          2345     2345       2345           2345         2345         2345   \n",
              "\n",
              "  Myntra MRP Paytm MRP Snapdeal MRP  \n",
              "0       2345      2345         2345  \n",
              "1       2345      2345         2345  \n",
              "2       2345      2345         2345  \n",
              "3       2345      2345         2345  \n",
              "4       2345      2345         2345  "
            ],
            "text/html": [
              "\n",
              "  <div id=\"df-7b938d21-7cc5-4bcd-abc9-0e8f84bc1bb4\" class=\"colab-df-container\">\n",
              "    <div>\n",
              "<style scoped>\n",
              "    .dataframe tbody tr th:only-of-type {\n",
              "        vertical-align: middle;\n",
              "    }\n",
              "\n",
              "    .dataframe tbody tr th {\n",
              "        vertical-align: top;\n",
              "    }\n",
              "\n",
              "    .dataframe thead th {\n",
              "        text-align: right;\n",
              "    }\n",
              "</style>\n",
              "<table border=\"1\" class=\"dataframe\">\n",
              "  <thead>\n",
              "    <tr style=\"text-align: right;\">\n",
              "      <th></th>\n",
              "      <th>index</th>\n",
              "      <th>Sku</th>\n",
              "      <th>Style Id</th>\n",
              "      <th>Catalog</th>\n",
              "      <th>Category</th>\n",
              "      <th>Weight</th>\n",
              "      <th>TP</th>\n",
              "      <th>MRP Old</th>\n",
              "      <th>Final MRP Old</th>\n",
              "      <th>Ajio MRP</th>\n",
              "      <th>Amazon MRP</th>\n",
              "      <th>Amazon FBA MRP</th>\n",
              "      <th>Flipkart MRP</th>\n",
              "      <th>Limeroad MRP</th>\n",
              "      <th>Myntra MRP</th>\n",
              "      <th>Paytm MRP</th>\n",
              "      <th>Snapdeal MRP</th>\n",
              "    </tr>\n",
              "  </thead>\n",
              "  <tbody>\n",
              "    <tr>\n",
              "      <th>0</th>\n",
              "      <td>0</td>\n",
              "      <td>Os206_3141_S</td>\n",
              "      <td>Os206_3141</td>\n",
              "      <td>Moments</td>\n",
              "      <td>Kurta</td>\n",
              "      <td>0.3</td>\n",
              "      <td>538</td>\n",
              "      <td>2178</td>\n",
              "      <td>2345</td>\n",
              "      <td>2345</td>\n",
              "      <td>2345</td>\n",
              "      <td>2345</td>\n",
              "      <td>2345</td>\n",
              "      <td>2345</td>\n",
              "      <td>2345</td>\n",
              "      <td>2345</td>\n",
              "      <td>2345</td>\n",
              "    </tr>\n",
              "    <tr>\n",
              "      <th>1</th>\n",
              "      <td>1</td>\n",
              "      <td>Os206_3141_M</td>\n",
              "      <td>Os206_3141</td>\n",
              "      <td>Moments</td>\n",
              "      <td>Kurta</td>\n",
              "      <td>0.3</td>\n",
              "      <td>538</td>\n",
              "      <td>2178</td>\n",
              "      <td>2345</td>\n",
              "      <td>2345</td>\n",
              "      <td>2345</td>\n",
              "      <td>2345</td>\n",
              "      <td>2345</td>\n",
              "      <td>2345</td>\n",
              "      <td>2345</td>\n",
              "      <td>2345</td>\n",
              "      <td>2345</td>\n",
              "    </tr>\n",
              "    <tr>\n",
              "      <th>2</th>\n",
              "      <td>2</td>\n",
              "      <td>Os206_3141_L</td>\n",
              "      <td>Os206_3141</td>\n",
              "      <td>Moments</td>\n",
              "      <td>Kurta</td>\n",
              "      <td>0.3</td>\n",
              "      <td>538</td>\n",
              "      <td>2178</td>\n",
              "      <td>2345</td>\n",
              "      <td>2345</td>\n",
              "      <td>2345</td>\n",
              "      <td>2345</td>\n",
              "      <td>2345</td>\n",
              "      <td>2345</td>\n",
              "      <td>2345</td>\n",
              "      <td>2345</td>\n",
              "      <td>2345</td>\n",
              "    </tr>\n",
              "    <tr>\n",
              "      <th>3</th>\n",
              "      <td>3</td>\n",
              "      <td>Os206_3141_XL</td>\n",
              "      <td>Os206_3141</td>\n",
              "      <td>Moments</td>\n",
              "      <td>Kurta</td>\n",
              "      <td>0.3</td>\n",
              "      <td>538</td>\n",
              "      <td>2178</td>\n",
              "      <td>2345</td>\n",
              "      <td>2345</td>\n",
              "      <td>2345</td>\n",
              "      <td>2345</td>\n",
              "      <td>2345</td>\n",
              "      <td>2345</td>\n",
              "      <td>2345</td>\n",
              "      <td>2345</td>\n",
              "      <td>2345</td>\n",
              "    </tr>\n",
              "    <tr>\n",
              "      <th>4</th>\n",
              "      <td>4</td>\n",
              "      <td>Os206_3141_2XL</td>\n",
              "      <td>Os206_3141</td>\n",
              "      <td>Moments</td>\n",
              "      <td>Kurta</td>\n",
              "      <td>0.3</td>\n",
              "      <td>538</td>\n",
              "      <td>2178</td>\n",
              "      <td>2345</td>\n",
              "      <td>2345</td>\n",
              "      <td>2345</td>\n",
              "      <td>2345</td>\n",
              "      <td>2345</td>\n",
              "      <td>2345</td>\n",
              "      <td>2345</td>\n",
              "      <td>2345</td>\n",
              "      <td>2345</td>\n",
              "    </tr>\n",
              "  </tbody>\n",
              "</table>\n",
              "</div>\n",
              "    <div class=\"colab-df-buttons\">\n",
              "\n",
              "  <div class=\"colab-df-container\">\n",
              "    <button class=\"colab-df-convert\" onclick=\"convertToInteractive('df-7b938d21-7cc5-4bcd-abc9-0e8f84bc1bb4')\"\n",
              "            title=\"Convert this dataframe to an interactive table.\"\n",
              "            style=\"display:none;\">\n",
              "\n",
              "  <svg xmlns=\"http://www.w3.org/2000/svg\" height=\"24px\" viewBox=\"0 -960 960 960\">\n",
              "    <path d=\"M120-120v-720h720v720H120Zm60-500h600v-160H180v160Zm220 220h160v-160H400v160Zm0 220h160v-160H400v160ZM180-400h160v-160H180v160Zm440 0h160v-160H620v160ZM180-180h160v-160H180v160Zm440 0h160v-160H620v160Z\"/>\n",
              "  </svg>\n",
              "    </button>\n",
              "\n",
              "  <style>\n",
              "    .colab-df-container {\n",
              "      display:flex;\n",
              "      gap: 12px;\n",
              "    }\n",
              "\n",
              "    .colab-df-convert {\n",
              "      background-color: #E8F0FE;\n",
              "      border: none;\n",
              "      border-radius: 50%;\n",
              "      cursor: pointer;\n",
              "      display: none;\n",
              "      fill: #1967D2;\n",
              "      height: 32px;\n",
              "      padding: 0 0 0 0;\n",
              "      width: 32px;\n",
              "    }\n",
              "\n",
              "    .colab-df-convert:hover {\n",
              "      background-color: #E2EBFA;\n",
              "      box-shadow: 0px 1px 2px rgba(60, 64, 67, 0.3), 0px 1px 3px 1px rgba(60, 64, 67, 0.15);\n",
              "      fill: #174EA6;\n",
              "    }\n",
              "\n",
              "    .colab-df-buttons div {\n",
              "      margin-bottom: 4px;\n",
              "    }\n",
              "\n",
              "    [theme=dark] .colab-df-convert {\n",
              "      background-color: #3B4455;\n",
              "      fill: #D2E3FC;\n",
              "    }\n",
              "\n",
              "    [theme=dark] .colab-df-convert:hover {\n",
              "      background-color: #434B5C;\n",
              "      box-shadow: 0px 1px 3px 1px rgba(0, 0, 0, 0.15);\n",
              "      filter: drop-shadow(0px 1px 2px rgba(0, 0, 0, 0.3));\n",
              "      fill: #FFFFFF;\n",
              "    }\n",
              "  </style>\n",
              "\n",
              "    <script>\n",
              "      const buttonEl =\n",
              "        document.querySelector('#df-7b938d21-7cc5-4bcd-abc9-0e8f84bc1bb4 button.colab-df-convert');\n",
              "      buttonEl.style.display =\n",
              "        google.colab.kernel.accessAllowed ? 'block' : 'none';\n",
              "\n",
              "      async function convertToInteractive(key) {\n",
              "        const element = document.querySelector('#df-7b938d21-7cc5-4bcd-abc9-0e8f84bc1bb4');\n",
              "        const dataTable =\n",
              "          await google.colab.kernel.invokeFunction('convertToInteractive',\n",
              "                                                    [key], {});\n",
              "        if (!dataTable) return;\n",
              "\n",
              "        const docLinkHtml = 'Like what you see? Visit the ' +\n",
              "          '<a target=\"_blank\" href=https://colab.research.google.com/notebooks/data_table.ipynb>data table notebook</a>'\n",
              "          + ' to learn more about interactive tables.';\n",
              "        element.innerHTML = '';\n",
              "        dataTable['output_type'] = 'display_data';\n",
              "        await google.colab.output.renderOutput(dataTable, element);\n",
              "        const docLink = document.createElement('div');\n",
              "        docLink.innerHTML = docLinkHtml;\n",
              "        element.appendChild(docLink);\n",
              "      }\n",
              "    </script>\n",
              "  </div>\n",
              "\n",
              "\n",
              "<div id=\"df-6b96369c-7ab7-44b9-a4c4-c94439a2646a\">\n",
              "  <button class=\"colab-df-quickchart\" onclick=\"quickchart('df-6b96369c-7ab7-44b9-a4c4-c94439a2646a')\"\n",
              "            title=\"Suggest charts\"\n",
              "            style=\"display:none;\">\n",
              "\n",
              "<svg xmlns=\"http://www.w3.org/2000/svg\" height=\"24px\"viewBox=\"0 0 24 24\"\n",
              "     width=\"24px\">\n",
              "    <g>\n",
              "        <path d=\"M19 3H5c-1.1 0-2 .9-2 2v14c0 1.1.9 2 2 2h14c1.1 0 2-.9 2-2V5c0-1.1-.9-2-2-2zM9 17H7v-7h2v7zm4 0h-2V7h2v10zm4 0h-2v-4h2v4z\"/>\n",
              "    </g>\n",
              "</svg>\n",
              "  </button>\n",
              "\n",
              "<style>\n",
              "  .colab-df-quickchart {\n",
              "      --bg-color: #E8F0FE;\n",
              "      --fill-color: #1967D2;\n",
              "      --hover-bg-color: #E2EBFA;\n",
              "      --hover-fill-color: #174EA6;\n",
              "      --disabled-fill-color: #AAA;\n",
              "      --disabled-bg-color: #DDD;\n",
              "  }\n",
              "\n",
              "  [theme=dark] .colab-df-quickchart {\n",
              "      --bg-color: #3B4455;\n",
              "      --fill-color: #D2E3FC;\n",
              "      --hover-bg-color: #434B5C;\n",
              "      --hover-fill-color: #FFFFFF;\n",
              "      --disabled-bg-color: #3B4455;\n",
              "      --disabled-fill-color: #666;\n",
              "  }\n",
              "\n",
              "  .colab-df-quickchart {\n",
              "    background-color: var(--bg-color);\n",
              "    border: none;\n",
              "    border-radius: 50%;\n",
              "    cursor: pointer;\n",
              "    display: none;\n",
              "    fill: var(--fill-color);\n",
              "    height: 32px;\n",
              "    padding: 0;\n",
              "    width: 32px;\n",
              "  }\n",
              "\n",
              "  .colab-df-quickchart:hover {\n",
              "    background-color: var(--hover-bg-color);\n",
              "    box-shadow: 0 1px 2px rgba(60, 64, 67, 0.3), 0 1px 3px 1px rgba(60, 64, 67, 0.15);\n",
              "    fill: var(--button-hover-fill-color);\n",
              "  }\n",
              "\n",
              "  .colab-df-quickchart-complete:disabled,\n",
              "  .colab-df-quickchart-complete:disabled:hover {\n",
              "    background-color: var(--disabled-bg-color);\n",
              "    fill: var(--disabled-fill-color);\n",
              "    box-shadow: none;\n",
              "  }\n",
              "\n",
              "  .colab-df-spinner {\n",
              "    border: 2px solid var(--fill-color);\n",
              "    border-color: transparent;\n",
              "    border-bottom-color: var(--fill-color);\n",
              "    animation:\n",
              "      spin 1s steps(1) infinite;\n",
              "  }\n",
              "\n",
              "  @keyframes spin {\n",
              "    0% {\n",
              "      border-color: transparent;\n",
              "      border-bottom-color: var(--fill-color);\n",
              "      border-left-color: var(--fill-color);\n",
              "    }\n",
              "    20% {\n",
              "      border-color: transparent;\n",
              "      border-left-color: var(--fill-color);\n",
              "      border-top-color: var(--fill-color);\n",
              "    }\n",
              "    30% {\n",
              "      border-color: transparent;\n",
              "      border-left-color: var(--fill-color);\n",
              "      border-top-color: var(--fill-color);\n",
              "      border-right-color: var(--fill-color);\n",
              "    }\n",
              "    40% {\n",
              "      border-color: transparent;\n",
              "      border-right-color: var(--fill-color);\n",
              "      border-top-color: var(--fill-color);\n",
              "    }\n",
              "    60% {\n",
              "      border-color: transparent;\n",
              "      border-right-color: var(--fill-color);\n",
              "    }\n",
              "    80% {\n",
              "      border-color: transparent;\n",
              "      border-right-color: var(--fill-color);\n",
              "      border-bottom-color: var(--fill-color);\n",
              "    }\n",
              "    90% {\n",
              "      border-color: transparent;\n",
              "      border-bottom-color: var(--fill-color);\n",
              "    }\n",
              "  }\n",
              "</style>\n",
              "\n",
              "  <script>\n",
              "    async function quickchart(key) {\n",
              "      const quickchartButtonEl =\n",
              "        document.querySelector('#' + key + ' button');\n",
              "      quickchartButtonEl.disabled = true;  // To prevent multiple clicks.\n",
              "      quickchartButtonEl.classList.add('colab-df-spinner');\n",
              "      try {\n",
              "        const charts = await google.colab.kernel.invokeFunction(\n",
              "            'suggestCharts', [key], {});\n",
              "      } catch (error) {\n",
              "        console.error('Error during call to suggestCharts:', error);\n",
              "      }\n",
              "      quickchartButtonEl.classList.remove('colab-df-spinner');\n",
              "      quickchartButtonEl.classList.add('colab-df-quickchart-complete');\n",
              "    }\n",
              "    (() => {\n",
              "      let quickchartButtonEl =\n",
              "        document.querySelector('#df-6b96369c-7ab7-44b9-a4c4-c94439a2646a button');\n",
              "      quickchartButtonEl.style.display =\n",
              "        google.colab.kernel.accessAllowed ? 'block' : 'none';\n",
              "    })();\n",
              "  </script>\n",
              "</div>\n",
              "\n",
              "    </div>\n",
              "  </div>\n"
            ],
            "application/vnd.google.colaboratory.intrinsic+json": {
              "type": "dataframe",
              "variable_name": "data_of_May_2022",
              "summary": "{\n  \"name\": \"data_of_May_2022\",\n  \"rows\": 1330,\n  \"fields\": [\n    {\n      \"column\": \"index\",\n      \"properties\": {\n        \"dtype\": \"number\",\n        \"std\": 384,\n        \"min\": 0,\n        \"max\": 1329,\n        \"num_unique_values\": 1330,\n        \"samples\": [\n          893,\n          115,\n          526\n        ],\n        \"semantic_type\": \"\",\n        \"description\": \"\"\n      }\n    },\n    {\n      \"column\": \"Sku\",\n      \"properties\": {\n        \"dtype\": \"string\",\n        \"num_unique_values\": 1330,\n        \"samples\": [\n          \"Os156_L\",\n          \"Os222_3156_M\",\n          \"Os150_XL\"\n        ],\n        \"semantic_type\": \"\",\n        \"description\": \"\"\n      }\n    },\n    {\n      \"column\": \"Style Id\",\n      \"properties\": {\n        \"dtype\": \"category\",\n        \"num_unique_values\": 254,\n        \"samples\": [\n          \"Os280KR\",\n          \"Os181_5051\",\n          \"Os103_4171\"\n        ],\n        \"semantic_type\": \"\",\n        \"description\": \"\"\n      }\n    },\n    {\n      \"column\": \"Catalog\",\n      \"properties\": {\n        \"dtype\": \"category\",\n        \"num_unique_values\": 9,\n        \"samples\": [\n          \"Four Gems 2\",\n          \"Colors-8\",\n          \"Mix\"\n        ],\n        \"semantic_type\": \"\",\n        \"description\": \"\"\n      }\n    },\n    {\n      \"column\": \"Category\",\n      \"properties\": {\n        \"dtype\": \"category\",\n        \"num_unique_values\": 5,\n        \"samples\": [\n          \"Kurta Set\",\n          \"Nill\",\n          \"Gown\"\n        ],\n        \"semantic_type\": \"\",\n        \"description\": \"\"\n      }\n    },\n    {\n      \"column\": \"Weight\",\n      \"properties\": {\n        \"dtype\": \"category\",\n        \"num_unique_values\": 4,\n        \"samples\": [\n          \"0.2\",\n          \"Nill\",\n          \"0.3\"\n        ],\n        \"semantic_type\": \"\",\n        \"description\": \"\"\n      }\n    },\n    {\n      \"column\": \"TP\",\n      \"properties\": {\n        \"dtype\": \"category\",\n        \"num_unique_values\": 93,\n        \"samples\": [\n          \"510\",\n          \"395\",\n          \"440\"\n        ],\n        \"semantic_type\": \"\",\n        \"description\": \"\"\n      }\n    },\n    {\n      \"column\": \"MRP Old\",\n      \"properties\": {\n        \"dtype\": \"category\",\n        \"num_unique_values\": 67,\n        \"samples\": [\n          \"3495\",\n          \"2210\",\n          \"2378\"\n        ],\n        \"semantic_type\": \"\",\n        \"description\": \"\"\n      }\n    },\n    {\n      \"column\": \"Final MRP Old\",\n      \"properties\": {\n        \"dtype\": \"category\",\n        \"num_unique_values\": 52,\n        \"samples\": [\n          \"1250\",\n          \"3149\",\n          \"4899\"\n        ],\n        \"semantic_type\": \"\",\n        \"description\": \"\"\n      }\n    },\n    {\n      \"column\": \"Ajio MRP\",\n      \"properties\": {\n        \"dtype\": \"category\",\n        \"num_unique_values\": 51,\n        \"samples\": [\n          \"199\",\n          \"3149\",\n          \"4899\"\n        ],\n        \"semantic_type\": \"\",\n        \"description\": \"\"\n      }\n    },\n    {\n      \"column\": \"Amazon MRP\",\n      \"properties\": {\n        \"dtype\": \"category\",\n        \"num_unique_values\": 52,\n        \"samples\": [\n          \"1395\",\n          \"4549\",\n          \"4899\"\n        ],\n        \"semantic_type\": \"\",\n        \"description\": \"\"\n      }\n    },\n    {\n      \"column\": \"Amazon FBA MRP\",\n      \"properties\": {\n        \"dtype\": \"category\",\n        \"num_unique_values\": 52,\n        \"samples\": [\n          \"1395\",\n          \"4549\",\n          \"4899\"\n        ],\n        \"semantic_type\": \"\",\n        \"description\": \"\"\n      }\n    },\n    {\n      \"column\": \"Flipkart MRP\",\n      \"properties\": {\n        \"dtype\": \"category\",\n        \"num_unique_values\": 51,\n        \"samples\": [\n          \"199\",\n          \"3149\",\n          \"4899\"\n        ],\n        \"semantic_type\": \"\",\n        \"description\": \"\"\n      }\n    },\n    {\n      \"column\": \"Limeroad MRP\",\n      \"properties\": {\n        \"dtype\": \"category\",\n        \"num_unique_values\": 51,\n        \"samples\": [\n          \"199\",\n          \"3149\",\n          \"4899\"\n        ],\n        \"semantic_type\": \"\",\n        \"description\": \"\"\n      }\n    },\n    {\n      \"column\": \"Myntra MRP\",\n      \"properties\": {\n        \"dtype\": \"category\",\n        \"num_unique_values\": 50,\n        \"samples\": [\n          \"1795\",\n          \"3149\",\n          \"3297\"\n        ],\n        \"semantic_type\": \"\",\n        \"description\": \"\"\n      }\n    },\n    {\n      \"column\": \"Paytm MRP\",\n      \"properties\": {\n        \"dtype\": \"category\",\n        \"num_unique_values\": 51,\n        \"samples\": [\n          \"199\",\n          \"3149\",\n          \"4899\"\n        ],\n        \"semantic_type\": \"\",\n        \"description\": \"\"\n      }\n    },\n    {\n      \"column\": \"Snapdeal MRP\",\n      \"properties\": {\n        \"dtype\": \"category\",\n        \"num_unique_values\": 51,\n        \"samples\": [\n          \"199\",\n          \"3149\",\n          \"4899\"\n        ],\n        \"semantic_type\": \"\",\n        \"description\": \"\"\n      }\n    }\n  ]\n}"
            }
          },
          "metadata": {},
          "execution_count": 29
        }
      ]
    },
    {
      "cell_type": "markdown",
      "source": [],
      "metadata": {
        "id": "M2NHknZ_TfCT"
      }
    },
    {
      "cell_type": "markdown",
      "source": [
        "# **Data Cleaning**"
      ],
      "metadata": {
        "id": "MWh0pcEGSzDn"
      }
    },
    {
      "cell_type": "markdown",
      "source": [
        "**1. Data cleaning and handling missing values for customer_data**\n",
        "\n",
        "\n",
        "\n"
      ],
      "metadata": {
        "id": "32W7EVPPZ_Bg"
      }
    },
    {
      "cell_type": "code",
      "source": [
        "# Checking missing values.\n",
        "print(customer_data.isnull().sum())"
      ],
      "metadata": {
        "colab": {
          "base_uri": "https://localhost:8080/"
        },
        "id": "U7KElRiCUEoa",
        "outputId": "a7450bcd-5c24-4aff-abce-6a848f5844d4"
      },
      "execution_count": null,
      "outputs": [
        {
          "output_type": "stream",
          "name": "stdout",
          "text": [
            "index           0\n",
            "DATE            1\n",
            "Months         25\n",
            "CUSTOMER     1040\n",
            "Style        1040\n",
            "SKU          2474\n",
            "Size         1040\n",
            "PCS          1040\n",
            "RATE         1040\n",
            "GROSS AMT    1040\n",
            "dtype: int64\n"
          ]
        }
      ]
    },
    {
      "cell_type": "code",
      "source": [
        "# Filling missing values.\n",
        "customer_data['DATE'].fillna(customer_data['DATE'].mode()[0], inplace=True)\n",
        "customer_data['Months'].fillna('Unknown', inplace=True)\n",
        "customer_data['SKU'].fillna('Unknown', inplace=True)\n",
        "customer_data.fillna('Missing', inplace=True)"
      ],
      "metadata": {
        "id": "5Bs0v60ZU8lL"
      },
      "execution_count": null,
      "outputs": []
    },
    {
      "cell_type": "code",
      "source": [
        "# Check the Data after handling missing values.\n",
        "customer_data.head()\n",
        "print(customer_data.isnull().sum())"
      ],
      "metadata": {
        "colab": {
          "base_uri": "https://localhost:8080/"
        },
        "id": "zAt2Dj0fa2-0",
        "outputId": "67446635-1a00-40dc-bcde-7565071ce151"
      },
      "execution_count": null,
      "outputs": [
        {
          "output_type": "stream",
          "name": "stdout",
          "text": [
            "index        0\n",
            "DATE         0\n",
            "Months       0\n",
            "CUSTOMER     0\n",
            "Style        0\n",
            "SKU          0\n",
            "Size         0\n",
            "PCS          0\n",
            "RATE         0\n",
            "GROSS AMT    0\n",
            "dtype: int64\n"
          ]
        }
      ]
    },
    {
      "cell_type": "markdown",
      "source": [
        "**2. Data cleaning and handling missing values for order_data**"
      ],
      "metadata": {
        "id": "31GAwZ0kaYJr"
      }
    },
    {
      "cell_type": "code",
      "source": [
        "# Checking missing values for order_data\n",
        "print(order_data.isnull().sum())\n"
      ],
      "metadata": {
        "colab": {
          "base_uri": "https://localhost:8080/"
        },
        "id": "dkD7r2KSZBsZ",
        "outputId": "c470d1c8-a209-4dae-a7b6-76575e4a5039"
      },
      "execution_count": null,
      "outputs": [
        {
          "output_type": "stream",
          "name": "stdout",
          "text": [
            "index          0\n",
            "SKU Code      83\n",
            "Design No.    36\n",
            "Stock         36\n",
            "Category      45\n",
            "Size          36\n",
            "Color         45\n",
            "dtype: int64\n"
          ]
        }
      ]
    },
    {
      "cell_type": "code",
      "source": [
        "# Filling missing values.\n",
        "order_data['SKU Code'].fillna('N/A', inplace=True)\n",
        "order_data['Design No.'].fillna('N/A', inplace=True)\n",
        "order_data['Stock'].fillna(0, inplace=True)\n",
        "order_data['Category'].fillna('N/A', inplace=True)\n",
        "order_data['Size'].fillna('N/A', inplace=True)\n",
        "order_data['Color'].fillna('N/A', inplace=True)"
      ],
      "metadata": {
        "id": "V1jW3weZaipE"
      },
      "execution_count": null,
      "outputs": []
    },
    {
      "cell_type": "code",
      "source": [
        "# Check the Data after handling missing values.\n",
        "order_data.head()\n",
        "print(order_data.isnull().sum())"
      ],
      "metadata": {
        "colab": {
          "base_uri": "https://localhost:8080/"
        },
        "id": "dOF0Qs3KbJA5",
        "outputId": "764db2c3-7fc1-4856-9189-19b927771cf6"
      },
      "execution_count": null,
      "outputs": [
        {
          "output_type": "stream",
          "name": "stdout",
          "text": [
            "index         0\n",
            "SKU Code      0\n",
            "Design No.    0\n",
            "Stock         0\n",
            "Category      0\n",
            "Size          0\n",
            "Color         0\n",
            "dtype: int64\n"
          ]
        }
      ]
    },
    {
      "cell_type": "markdown",
      "source": [
        "**3. Data cleaning and handling missing values for sales_data**\n",
        "\n"
      ],
      "metadata": {
        "id": "WU8RkVv4bi2W"
      }
    },
    {
      "cell_type": "code",
      "source": [
        "# Checking missing values.\n",
        "print(sales_data.isnull().sum())"
      ],
      "metadata": {
        "colab": {
          "base_uri": "https://localhost:8080/"
        },
        "id": "lkdxf-otbfsu",
        "outputId": "b9867ff9-18fe-4424-dfb7-f02d64f321cf"
      },
      "execution_count": null,
      "outputs": [
        {
          "output_type": "stream",
          "name": "stdout",
          "text": [
            "Order ID                  0\n",
            "Date                      0\n",
            "Status                    0\n",
            "Fulfilment                0\n",
            "Sales Channel             0\n",
            "ship-service-level        0\n",
            "Style                     0\n",
            "SKU                       0\n",
            "Category                  0\n",
            "Size                      0\n",
            "ASIN                      0\n",
            "Courier Status         6871\n",
            "Qty                       0\n",
            "currency               7794\n",
            "Amount                 7794\n",
            "ship-city                33\n",
            "ship-state               33\n",
            "ship-postal-code         33\n",
            "ship-country             33\n",
            "promotion-ids         49142\n",
            "B2B                       0\n",
            "fulfilled-by          89679\n",
            "Unnamed: 22           49041\n",
            "dtype: int64\n"
          ]
        }
      ]
    },
    {
      "cell_type": "code",
      "source": [
        "# Filling missing values.\n",
        "\n",
        "# 1. Droping the empty column\n",
        "sales_data.drop(columns=['Unnamed: 22'], inplace=True)\n",
        "\n",
        "# 2. Impute missing 'currency' and 'Amount' with 'Unknown' or 0\n",
        "sales_data['currency'].fillna('Unknown', inplace=True)\n",
        "sales_data['Amount'].fillna(0, inplace=True)\n",
        "\n",
        "# 3. Impute missing 'Courier Status' with 'Not Specified'\n",
        "sales_data['Courier Status'].fillna('Not Specified', inplace=True)\n",
        "\n",
        "# 4. Impute missing location data with 'Unknown'\n",
        "for col in ['ship-city', 'ship-state', 'ship-country']:\n",
        "    sales_data[col].fillna('N/A', inplace=True)\n",
        "\n",
        "sales_data['ship-postal-code'].fillna(0, inplace=True)\n",
        "sales_data['promotion-ids'].fillna('N/A', inplace=True)\n",
        "\n",
        "# 5. If 'fulfilled-by' is not critical, drop rows or handle imputation\n",
        "# sales_data_df.dropna(subset=['fulfilled-by'], inplace=True)\n",
        "sales_data['fulfilled-by'].fillna('None', inplace=True)\n"
      ],
      "metadata": {
        "id": "4JGf1K8aerMM"
      },
      "execution_count": null,
      "outputs": []
    },
    {
      "cell_type": "code",
      "source": [
        "# Check the Data after handling missing values.\n",
        "sales_data.head()\n",
        "print(sales_data.isnull().sum())"
      ],
      "metadata": {
        "colab": {
          "base_uri": "https://localhost:8080/"
        },
        "id": "cx1r4isKhPDr",
        "outputId": "488cc34d-7896-4f82-a39e-516d85a272d0"
      },
      "execution_count": null,
      "outputs": [
        {
          "output_type": "stream",
          "name": "stdout",
          "text": [
            "Order ID              0\n",
            "Date                  0\n",
            "Status                0\n",
            "Fulfilment            0\n",
            "Sales Channel         0\n",
            "ship-service-level    0\n",
            "Style                 0\n",
            "SKU                   0\n",
            "Category              0\n",
            "Size                  0\n",
            "ASIN                  0\n",
            "Courier Status        0\n",
            "Qty                   0\n",
            "currency              0\n",
            "Amount                0\n",
            "ship-city             0\n",
            "ship-state            0\n",
            "ship-postal-code      0\n",
            "ship-country          0\n",
            "promotion-ids         0\n",
            "B2B                   0\n",
            "fulfilled-by          0\n",
            "dtype: int64\n"
          ]
        }
      ]
    },
    {
      "cell_type": "markdown",
      "source": [
        "**4. Data cleaning and handling missing values for data_of_March_2021**"
      ],
      "metadata": {
        "id": "Yovi-_CbhbOU"
      }
    },
    {
      "cell_type": "code",
      "source": [
        "# Checking missing values.\n",
        "print(data_of_March_2021.isnull().sum())"
      ],
      "metadata": {
        "colab": {
          "base_uri": "https://localhost:8080/"
        },
        "id": "QIs0MFeQhj9u",
        "outputId": "58edc1ca-0f1f-4e06-82aa-bf35ed455d66"
      },
      "execution_count": null,
      "outputs": [
        {
          "output_type": "stream",
          "name": "stdout",
          "text": [
            "Sku               0\n",
            "Style Id          0\n",
            "Catalog           0\n",
            "Category          0\n",
            "Weight            0\n",
            "TP 1              0\n",
            "TP 2              0\n",
            "MRP Old           0\n",
            "Final MRP Old     0\n",
            "Ajio MRP          0\n",
            "Amazon MRP        0\n",
            "Amazon FBA MRP    0\n",
            "Flipkart MRP      0\n",
            "Limeroad MRP      0\n",
            "Myntra MRP        0\n",
            "Paytm MRP         0\n",
            "Snapdeal MRP      0\n",
            "dtype: int64\n"
          ]
        }
      ]
    },
    {
      "cell_type": "markdown",
      "source": [
        "**5. Data cleaning and handling missing values for data_of_May_2022**"
      ],
      "metadata": {
        "id": "zdVGCl91hgig"
      }
    },
    {
      "cell_type": "code",
      "source": [
        "# Checking missing values.\n",
        "print(data_of_May_2022.isnull().sum())"
      ],
      "metadata": {
        "colab": {
          "base_uri": "https://localhost:8080/"
        },
        "id": "s4nvI0AOhXNg",
        "outputId": "a4809b81-7671-4c19-ff3c-797a38c79e92"
      },
      "execution_count": null,
      "outputs": [
        {
          "output_type": "stream",
          "name": "stdout",
          "text": [
            "index             0\n",
            "Sku               0\n",
            "Style Id          0\n",
            "Catalog           0\n",
            "Category          0\n",
            "Weight            0\n",
            "TP                0\n",
            "MRP Old           0\n",
            "Final MRP Old     0\n",
            "Ajio MRP          0\n",
            "Amazon MRP        0\n",
            "Amazon FBA MRP    0\n",
            "Flipkart MRP      0\n",
            "Limeroad MRP      0\n",
            "Myntra MRP        0\n",
            "Paytm MRP         0\n",
            "Snapdeal MRP      0\n",
            "dtype: int64\n"
          ]
        }
      ]
    },
    {
      "cell_type": "markdown",
      "source": [
        "# **Exploring the Data**"
      ],
      "metadata": {
        "id": "H1rTCnItiQea"
      }
    },
    {
      "cell_type": "markdown",
      "source": [
        "**- Displaying the basic statistics**"
      ],
      "metadata": {
        "id": "j4TKmVSnrZr9"
      }
    },
    {
      "cell_type": "code",
      "source": [
        "print(customer_data.describe())\n",
        "print(sales_data.describe())\n",
        "print(order_data.describe())\n",
        "print(data_of_March_2021.describe())\n",
        "print(data_of_May_2022.describe())\n"
      ],
      "metadata": {
        "colab": {
          "base_uri": "https://localhost:8080/"
        },
        "id": "j73ZjOiNilZh",
        "outputId": "7cc6982b-66fb-416c-94da-688cf9ce6f33"
      },
      "execution_count": null,
      "outputs": [
        {
          "output_type": "stream",
          "name": "stdout",
          "text": [
            "              index\n",
            "count  37432.000000\n",
            "mean   18715.500000\n",
            "std    10805.831975\n",
            "min        0.000000\n",
            "25%     9357.750000\n",
            "50%    18715.500000\n",
            "75%    28073.250000\n",
            "max    37431.000000\n",
            "                 Qty         Amount  ship-postal-code\n",
            "count  128949.000000  128949.000000     128949.000000\n",
            "mean        0.904629     609.350774     463859.558942\n",
            "std         0.314782     313.353546     191592.613737\n",
            "min         0.000000       0.000000          0.000000\n",
            "25%         1.000000     413.000000     382421.000000\n",
            "50%         1.000000     583.000000     500033.000000\n",
            "75%         1.000000     771.000000     600024.000000\n",
            "max        15.000000    5584.000000     989898.000000\n",
            "             index        Stock\n",
            "count  9271.000000  9271.000000\n",
            "mean   4635.000000    26.144537\n",
            "std    2676.451507    58.372091\n",
            "min       0.000000     0.000000\n",
            "25%    2317.500000     3.000000\n",
            "50%    4635.000000     8.000000\n",
            "75%    6952.500000    31.000000\n",
            "max    9270.000000  1234.000000\n",
            "                 Sku Style Id Catalog Category Weight  TP 1    TP 2 MRP Old  \\\n",
            "count           1330     1330    1330     1330   1330  1330    1330    1330   \n",
            "unique          1330      254       9        5      4    93      93      67   \n",
            "top     Os206_3141_S    Os160     Mix    Kurta    0.3   395  319.95    1695   \n",
            "freq               1        8     830      820    820   139     139     156   \n",
            "\n",
            "       Final MRP Old Ajio MRP Amazon MRP Amazon FBA MRP Flipkart MRP  \\\n",
            "count           1330     1330       1330           1330         1330   \n",
            "unique            52       51         52             52           51   \n",
            "top             1925     1925       1925           1925         1925   \n",
            "freq             172      173        203            203          178   \n",
            "\n",
            "       Limeroad MRP Myntra MRP Paytm MRP Snapdeal MRP  \n",
            "count          1330       1330      1330         1330  \n",
            "unique           51         50        51           51  \n",
            "top            1925       1925      1925         1695  \n",
            "freq            137        173       187          159  \n",
            "             index\n",
            "count  1330.000000\n",
            "mean    664.500000\n",
            "std     384.082239\n",
            "min       0.000000\n",
            "25%     332.250000\n",
            "50%     664.500000\n",
            "75%     996.750000\n",
            "max    1329.000000\n"
          ]
        }
      ]
    },
    {
      "cell_type": "markdown",
      "source": [
        "**- Checking the first few rows of each dataset**"
      ],
      "metadata": {
        "id": "aZTzqowOrdOc"
      }
    },
    {
      "cell_type": "code",
      "source": [
        "print(customer_data.info())\n",
        "print(sales_data.info())\n",
        "print(order_data.info())\n",
        "print(data_of_March_2021.info())\n",
        "print(data_of_May_2022.info())"
      ],
      "metadata": {
        "colab": {
          "base_uri": "https://localhost:8080/"
        },
        "id": "awONFlqzizaN",
        "outputId": "0dd67450-673e-4155-88cf-1f3cf4a889b9"
      },
      "execution_count": null,
      "outputs": [
        {
          "output_type": "stream",
          "name": "stdout",
          "text": [
            "<class 'pandas.core.frame.DataFrame'>\n",
            "RangeIndex: 37432 entries, 0 to 37431\n",
            "Data columns (total 10 columns):\n",
            " #   Column     Non-Null Count  Dtype \n",
            "---  ------     --------------  ----- \n",
            " 0   index      37432 non-null  int64 \n",
            " 1   DATE       37432 non-null  object\n",
            " 2   Months     37432 non-null  object\n",
            " 3   CUSTOMER   37432 non-null  object\n",
            " 4   Style      37432 non-null  object\n",
            " 5   SKU        37432 non-null  object\n",
            " 6   Size       37432 non-null  object\n",
            " 7   PCS        37432 non-null  object\n",
            " 8   RATE       37432 non-null  object\n",
            " 9   GROSS AMT  37432 non-null  object\n",
            "dtypes: int64(1), object(9)\n",
            "memory usage: 2.9+ MB\n",
            "None\n",
            "<class 'pandas.core.frame.DataFrame'>\n",
            "RangeIndex: 128949 entries, 0 to 128948\n",
            "Data columns (total 22 columns):\n",
            " #   Column              Non-Null Count   Dtype  \n",
            "---  ------              --------------   -----  \n",
            " 0   Order ID            128949 non-null  object \n",
            " 1   Date                128949 non-null  object \n",
            " 2   Status              128949 non-null  object \n",
            " 3   Fulfilment          128949 non-null  object \n",
            " 4   Sales Channel       128949 non-null  object \n",
            " 5   ship-service-level  128949 non-null  object \n",
            " 6   Style               128949 non-null  object \n",
            " 7   SKU                 128949 non-null  object \n",
            " 8   Category            128949 non-null  object \n",
            " 9   Size                128949 non-null  object \n",
            " 10  ASIN                128949 non-null  object \n",
            " 11  Courier Status      128949 non-null  object \n",
            " 12  Qty                 128949 non-null  int64  \n",
            " 13  currency            128949 non-null  object \n",
            " 14  Amount              128949 non-null  float64\n",
            " 15  ship-city           128949 non-null  object \n",
            " 16  ship-state          128949 non-null  object \n",
            " 17  ship-postal-code    128949 non-null  float64\n",
            " 18  ship-country        128949 non-null  object \n",
            " 19  promotion-ids       128949 non-null  object \n",
            " 20  B2B                 128949 non-null  bool   \n",
            " 21  fulfilled-by        128949 non-null  object \n",
            "dtypes: bool(1), float64(2), int64(1), object(18)\n",
            "memory usage: 20.8+ MB\n",
            "None\n",
            "<class 'pandas.core.frame.DataFrame'>\n",
            "RangeIndex: 9271 entries, 0 to 9270\n",
            "Data columns (total 7 columns):\n",
            " #   Column      Non-Null Count  Dtype  \n",
            "---  ------      --------------  -----  \n",
            " 0   index       9271 non-null   int64  \n",
            " 1   SKU Code    9271 non-null   object \n",
            " 2   Design No.  9271 non-null   object \n",
            " 3   Stock       9271 non-null   float64\n",
            " 4   Category    9271 non-null   object \n",
            " 5   Size        9271 non-null   object \n",
            " 6   Color       9271 non-null   object \n",
            "dtypes: float64(1), int64(1), object(5)\n",
            "memory usage: 507.1+ KB\n",
            "None\n",
            "<class 'pandas.core.frame.DataFrame'>\n",
            "RangeIndex: 1330 entries, 0 to 1329\n",
            "Data columns (total 17 columns):\n",
            " #   Column          Non-Null Count  Dtype \n",
            "---  ------          --------------  ----- \n",
            " 0   Sku             1330 non-null   object\n",
            " 1   Style Id        1330 non-null   object\n",
            " 2   Catalog         1330 non-null   object\n",
            " 3   Category        1330 non-null   object\n",
            " 4   Weight          1330 non-null   object\n",
            " 5   TP 1            1330 non-null   object\n",
            " 6   TP 2            1330 non-null   object\n",
            " 7   MRP Old         1330 non-null   object\n",
            " 8   Final MRP Old   1330 non-null   object\n",
            " 9   Ajio MRP        1330 non-null   object\n",
            " 10  Amazon MRP      1330 non-null   object\n",
            " 11  Amazon FBA MRP  1330 non-null   object\n",
            " 12  Flipkart MRP    1330 non-null   object\n",
            " 13  Limeroad MRP    1330 non-null   object\n",
            " 14  Myntra MRP      1330 non-null   object\n",
            " 15  Paytm MRP       1330 non-null   object\n",
            " 16  Snapdeal MRP    1330 non-null   object\n",
            "dtypes: object(17)\n",
            "memory usage: 176.8+ KB\n",
            "None\n",
            "<class 'pandas.core.frame.DataFrame'>\n",
            "RangeIndex: 1330 entries, 0 to 1329\n",
            "Data columns (total 17 columns):\n",
            " #   Column          Non-Null Count  Dtype \n",
            "---  ------          --------------  ----- \n",
            " 0   index           1330 non-null   int64 \n",
            " 1   Sku             1330 non-null   object\n",
            " 2   Style Id        1330 non-null   object\n",
            " 3   Catalog         1330 non-null   object\n",
            " 4   Category        1330 non-null   object\n",
            " 5   Weight          1330 non-null   object\n",
            " 6   TP              1330 non-null   object\n",
            " 7   MRP Old         1330 non-null   object\n",
            " 8   Final MRP Old   1330 non-null   object\n",
            " 9   Ajio MRP        1330 non-null   object\n",
            " 10  Amazon MRP      1330 non-null   object\n",
            " 11  Amazon FBA MRP  1330 non-null   object\n",
            " 12  Flipkart MRP    1330 non-null   object\n",
            " 13  Limeroad MRP    1330 non-null   object\n",
            " 14  Myntra MRP      1330 non-null   object\n",
            " 15  Paytm MRP       1330 non-null   object\n",
            " 16  Snapdeal MRP    1330 non-null   object\n",
            "dtypes: int64(1), object(16)\n",
            "memory usage: 176.8+ KB\n",
            "None\n"
          ]
        }
      ]
    },
    {
      "cell_type": "markdown",
      "source": [
        "# **Financial Performance**"
      ],
      "metadata": {
        "id": "GMj50f35jTDF"
      }
    },
    {
      "cell_type": "markdown",
      "source": [
        "**1. Total Revenue**\n",
        "- Calculate the total revenue.\n",
        "\n",
        "\n",
        "\n",
        "\n",
        "\n",
        "\n"
      ],
      "metadata": {
        "id": "d8VkO1lEjeqU"
      }
    },
    {
      "cell_type": "code",
      "source": [
        "# Total revenue calculation\n",
        "total_revenue = sales_data['Amount'].sum()\n",
        "print(f\"Total Revenue: ${total_revenue:.2f}\")"
      ],
      "metadata": {
        "colab": {
          "base_uri": "https://localhost:8080/"
        },
        "id": "wFh9G5EAjcAg",
        "outputId": "58240bc7-b810-4c82-985a-d713068344a0"
      },
      "execution_count": null,
      "outputs": [
        {
          "output_type": "stream",
          "name": "stdout",
          "text": [
            "Total Revenue: $78575172.94\n"
          ]
        }
      ]
    },
    {
      "cell_type": "markdown",
      "source": [
        "**2. Top-Selling Products**\n",
        "- Identify top-selling products based on the quantity sold."
      ],
      "metadata": {
        "id": "ky16Gd5akCp2"
      }
    },
    {
      "cell_type": "code",
      "source": [
        "# Top-selling products\n",
        "top_selling_products = sales_data.groupby('SKU')['Qty'].sum().reset_index()\n",
        "top_selling_products = top_selling_products.sort_values(by='Qty', ascending=False)\n",
        "print(top_selling_products.head())\n"
      ],
      "metadata": {
        "colab": {
          "base_uri": "https://localhost:8080/"
        },
        "id": "c6E5vVWYkTuP",
        "outputId": "9f6d6e0b-d187-4079-943c-fb2930135c4c"
      },
      "execution_count": null,
      "outputs": [
        {
          "output_type": "stream",
          "name": "stdout",
          "text": [
            "               SKU  Qty\n",
            "4548  JNE3797-KR-L  661\n",
            "4549  JNE3797-KR-M  561\n",
            "4550  JNE3797-KR-S  503\n",
            "2746  JNE3405-KR-L  485\n",
            "1346   J0230-SKD-M  469\n"
          ]
        }
      ]
    },
    {
      "cell_type": "markdown",
      "source": [
        "**3. Average Order Value**\n",
        "- Calculate the average order value."
      ],
      "metadata": {
        "id": "d4hdL5fCkbEX"
      }
    },
    {
      "cell_type": "code",
      "source": [
        "# Average order value\n",
        "average_order_value = sales_data.groupby('Order ID')['Amount'].sum().mean()\n",
        "print(f\"Average Order Value: ${average_order_value:.2f}\")\n"
      ],
      "metadata": {
        "colab": {
          "base_uri": "https://localhost:8080/"
        },
        "id": "XM2ofRGbkf3z",
        "outputId": "27f83027-f153-4d1d-d05f-91af775754cd"
      },
      "execution_count": null,
      "outputs": [
        {
          "output_type": "stream",
          "name": "stdout",
          "text": [
            "Average Order Value: $652.88\n"
          ]
        }
      ]
    },
    {
      "cell_type": "markdown",
      "source": [
        "**4. Peak Sales Periods**\n",
        "- Determine peak sales periods.\n",
        "\n"
      ],
      "metadata": {
        "id": "iQp5ZmQMkt2v"
      }
    },
    {
      "cell_type": "code",
      "source": [
        "# Sales by month\n",
        "\n",
        "# Ensure the 'Date' column is in datetime format\n",
        "sales_data['Date'] = pd.to_datetime(sales_data['Date'], errors='coerce')\n",
        "\n",
        "# Extract month and year\n",
        "sales_data['month'] = sales_data['Date'].dt.to_period('M')\n",
        "\n",
        "# Group by month and sum the Amount\n",
        "monthly_sales = sales_data.groupby('month')['Amount'].sum().reset_index()\n",
        "\n",
        "# Plotting\n",
        "monthly_sales.plot(x='month', y='Amount', kind='line', title='Monthly Sales')\n",
        "plt.xlabel('Month')\n",
        "plt.ylabel('Sales Amount')\n",
        "plt.show()"
      ],
      "metadata": {
        "colab": {
          "base_uri": "https://localhost:8080/",
          "height": 541
        },
        "id": "Ymfq3HagkxPx",
        "outputId": "978cbcae-fdac-4d1b-a1e1-28877dfedc1d"
      },
      "execution_count": null,
      "outputs": [
        {
          "output_type": "stream",
          "name": "stderr",
          "text": [
            "<ipython-input-51-f5fe336c414d>:4: UserWarning: Could not infer format, so each element will be parsed individually, falling back to `dateutil`. To ensure parsing is consistent and as-expected, please specify a format.\n",
            "  sales_data['Date'] = pd.to_datetime(sales_data['Date'], errors='coerce')\n"
          ]
        },
        {
          "output_type": "display_data",
          "data": {
            "text/plain": [
              "<Figure size 640x480 with 1 Axes>"
            ],
            "image/png": "[encoded data removed]"
          },
          "metadata": {}
        }
      ]
    },
    {
      "cell_type": "code",
      "source": [
        "print(sales_data.columns)\n"
      ],
      "metadata": {
        "colab": {
          "base_uri": "https://localhost:8080/"
        },
        "id": "COscu9dglZBj",
        "outputId": "3deb8090-1904-4fcb-f741-cca05b81d9c6"
      },
      "execution_count": null,
      "outputs": [
        {
          "output_type": "stream",
          "name": "stdout",
          "text": [
            "Index(['Order ID', 'Date', 'Status', 'Fulfilment', 'Sales Channel ',\n",
            "       'ship-service-level', 'Style', 'SKU', 'Category', 'Size', 'ASIN',\n",
            "       'Courier Status', 'Qty', 'currency', 'Amount', 'ship-city',\n",
            "       'ship-state', 'ship-postal-code', 'ship-country', 'promotion-ids',\n",
            "       'B2B', 'fulfilled-by'],\n",
            "      dtype='object')\n"
          ]
        }
      ]
    },
    {
      "cell_type": "markdown",
      "source": [
        "# **Customer Insights**\n"
      ],
      "metadata": {
        "id": "3W2gQe6ol_1m"
      }
    },
    {
      "cell_type": "markdown",
      "source": [
        "**1. Top-Performing Locations**"
      ],
      "metadata": {
        "id": "KELsAJUUmJn8"
      }
    },
    {
      "cell_type": "code",
      "source": [
        "top_locations = sales_data.groupby('ship-city')['Amount'].sum().sort_values(ascending=False)\n",
        "print(top_locations.head())\n"
      ],
      "metadata": {
        "colab": {
          "base_uri": "https://localhost:8080/"
        },
        "id": "YsSueycpmFmx",
        "outputId": "7b7faa5d-b8e0-4aee-f78c-29a78b30b032"
      },
      "execution_count": null,
      "outputs": [
        {
          "output_type": "stream",
          "name": "stdout",
          "text": [
            "ship-city\n",
            "BENGALURU    6846485.99\n",
            "HYDERABAD    4944742.82\n",
            "MUMBAI       3703033.80\n",
            "NEW DELHI    3613092.78\n",
            "CHENNAI      3097021.74\n",
            "Name: Amount, dtype: float64\n"
          ]
        }
      ]
    },
    {
      "cell_type": "markdown",
      "source": [
        "**2. Order Cancellations**"
      ],
      "metadata": {
        "id": "RPJ-P2ZImVhQ"
      }
    },
    {
      "cell_type": "code",
      "source": [
        "cancellations = sales_data[sales_data['Status'] == 'Cancelled']\n",
        "cancellation_rate = len(cancellations) / len(sales_data) * 100\n",
        "print(f'Cancellation Rate: {cancellation_rate:.2f}%')\n"
      ],
      "metadata": {
        "colab": {
          "base_uri": "https://localhost:8080/"
        },
        "id": "PLCaH2ilmXg2",
        "outputId": "733e3b43-7027-47bd-b10b-4dbc17851ee1"
      },
      "execution_count": null,
      "outputs": [
        {
          "output_type": "stream",
          "name": "stdout",
          "text": [
            "Cancellation Rate: 14.22%\n"
          ]
        }
      ]
    },
    {
      "cell_type": "markdown",
      "source": [
        "**3. B2B Customers**"
      ],
      "metadata": {
        "id": "vEDLh0cimhjH"
      }
    },
    {
      "cell_type": "code",
      "source": [
        "b2b_customers = sales_data['B2B'].value_counts()\n",
        "print(b2b_customers)\n"
      ],
      "metadata": {
        "colab": {
          "base_uri": "https://localhost:8080/"
        },
        "id": "63ExHMt1mkgo",
        "outputId": "1d406c4a-6bbc-4a0b-cd73-c22a8c2ab04b"
      },
      "execution_count": null,
      "outputs": [
        {
          "output_type": "stream",
          "name": "stdout",
          "text": [
            "B2B\n",
            "False    128078\n",
            "True        871\n",
            "Name: count, dtype: int64\n"
          ]
        }
      ]
    },
    {
      "cell_type": "markdown",
      "source": [],
      "metadata": {
        "id": "IiowAWU4nDN1"
      }
    },
    {
      "cell_type": "markdown",
      "source": [
        "# **Logistics and Fulfillment**\n",
        "\n",
        "\n"
      ],
      "metadata": {
        "id": "arbIkD0QnFSc"
      }
    },
    {
      "cell_type": "markdown",
      "source": [
        "\n",
        "**- Orders Fulfilled by None vs Easy Ship**\n",
        "\n",
        "\n",
        "\n",
        "\n",
        "\n",
        "\n",
        "\n",
        "\n",
        "\n",
        "\n",
        "\n",
        "\n",
        "\n",
        "\n",
        "\n",
        "\n"
      ],
      "metadata": {
        "id": "9xb19SwNnMRq"
      }
    },
    {
      "cell_type": "code",
      "source": [
        "fulfillment_distribution = sales_data['fulfilled-by'].value_counts()\n",
        "print(fulfillment_distribution)\n"
      ],
      "metadata": {
        "colab": {
          "base_uri": "https://localhost:8080/"
        },
        "id": "6lRb4eI-nOf2",
        "outputId": "e55d0ca0-4f11-4794-d3ec-9b92edcb4788"
      },
      "execution_count": null,
      "outputs": [
        {
          "output_type": "stream",
          "name": "stdout",
          "text": [
            "fulfilled-by\n",
            "None         89679\n",
            "Easy Ship    39270\n",
            "Name: count, dtype: int64\n"
          ]
        }
      ]
    },
    {
      "cell_type": "markdown",
      "source": [
        "# **Product Management**"
      ],
      "metadata": {
        "id": "YY-xOtqfop5E"
      }
    },
    {
      "cell_type": "markdown",
      "source": [
        "**1. Popular Product Categories**"
      ],
      "metadata": {
        "id": "Q-VX-nIYov0a"
      }
    },
    {
      "cell_type": "code",
      "source": [
        "popular_categories = sales_data.groupby('Category')['Amount'].sum().sort_values(ascending=False)\n",
        "print(popular_categories.head())\n"
      ],
      "metadata": {
        "colab": {
          "base_uri": "https://localhost:8080/"
        },
        "id": "vWFhjyV_os7S",
        "outputId": "c7fff484-a1fd-4db2-d246-a53514148e9a"
      },
      "execution_count": null,
      "outputs": [
        {
          "output_type": "stream",
          "name": "stdout",
          "text": [
            "Category\n",
            "Set              39196086.67\n",
            "kurta            21295132.70\n",
            "Western Dress    11212423.69\n",
            "Top               5347242.30\n",
            "Ethnic Dress       790362.66\n",
            "Name: Amount, dtype: float64\n"
          ]
        }
      ]
    },
    {
      "cell_type": "markdown",
      "source": [
        "**2. Average Quantity Ordered**"
      ],
      "metadata": {
        "id": "UhN_ngvjo40V"
      }
    },
    {
      "cell_type": "code",
      "source": [
        "average_quantity = sales_data['Qty'].mean()\n",
        "print(f'Average Quantity Ordered: {average_quantity}')\n"
      ],
      "metadata": {
        "colab": {
          "base_uri": "https://localhost:8080/"
        },
        "id": "QoRWfoGLo9VR",
        "outputId": "36d7488a-d1a2-4b68-f873-0cd18655fea9"
      },
      "execution_count": null,
      "outputs": [
        {
          "output_type": "stream",
          "name": "stdout",
          "text": [
            "Average Quantity Ordered: 0.9046289618376258\n"
          ]
        }
      ]
    },
    {
      "cell_type": "markdown",
      "source": [
        "# **Customer Satisfaction and Returns**"
      ],
      "metadata": {
        "id": "uJ6liRtNpIcE"
      }
    },
    {
      "cell_type": "markdown",
      "source": [
        "**1. Return and Cancellation Rates**"
      ],
      "metadata": {
        "id": "axTp1WCUpSMJ"
      }
    },
    {
      "cell_type": "code",
      "source": [
        "return_and_cancellation_rate = len(cancellations) / len(sales_data) * 100\n",
        "print(f'Return and Cancellation Rate: {return_and_cancellation_rate:.2f}%')\n"
      ],
      "metadata": {
        "colab": {
          "base_uri": "https://localhost:8080/"
        },
        "id": "DCKGYR_7pMXl",
        "outputId": "aba70fc7-2869-464f-9235-c0e4236cd402"
      },
      "execution_count": null,
      "outputs": [
        {
          "output_type": "stream",
          "name": "stdout",
          "text": [
            "Return and Cancellation Rate: 14.22%\n"
          ]
        }
      ]
    },
    {
      "cell_type": "markdown",
      "source": [
        "**2. Problematic Products/Categories**"
      ],
      "metadata": {
        "id": "laEtmQFMpU40"
      }
    },
    {
      "cell_type": "code",
      "source": [
        "problematic_products = cancellations.groupby('SKU')['Amount'].sum().sort_values(ascending=False)\n",
        "print(problematic_products.head())\n"
      ],
      "metadata": {
        "colab": {
          "base_uri": "https://localhost:8080/"
        },
        "id": "qfHgpbmDpY-_",
        "outputId": "6c1b7ca6-c61e-4d4d-ddbe-6305883fd559"
      },
      "execution_count": null,
      "outputs": [
        {
          "output_type": "stream",
          "name": "stdout",
          "text": [
            "SKU\n",
            "JNE3797-KR-L      55269.77\n",
            "JNE3797-KR-M      50440.16\n",
            "JNE3797-KR-S      47108.57\n",
            "J0230-SKD-M       44088.20\n",
            "SET183-KR-DH-M    32362.98\n",
            "Name: Amount, dtype: float64\n"
          ]
        }
      ]
    },
    {
      "cell_type": "markdown",
      "source": [
        "# **Summary**"
      ],
      "metadata": {
        "id": "KBm67E-Up3-s"
      }
    },
    {
      "cell_type": "markdown",
      "source": [
        "***Summarize the findings based on the insights gathered:***\n",
        "\n",
        "- **Financial Performance**: [Summary of total revenue, top-selling products, etc.]\n",
        "\n",
        "- **Customer Insights**: [Top locations, cancellation analysis, etc.]\n",
        "\n",
        "- **Logistics**: [Shipping times, fulfillment methods, etc.]\n",
        "\n",
        "- **Product Management**: [Popular categories, etc.]\n",
        "\n",
        "- **Customer Satisfaction**: [Return rates, problematic products, etc.]\n",
        "\n",
        "\n",
        "**The project has effectively tackled critical business challenges, delivering valuable insights which helps in decision-making, improving operational efficiency, and drive sustainable growth in a competitive retail market.**\n"
      ],
      "metadata": {
        "id": "sIfXieiRxGBt"
      }
    },
    {
      "cell_type": "markdown",
      "source": [
        "# **Visualization of the Sales Data Insights Summary**"
      ],
      "metadata": {
        "id": "9mHNCBPowSmx"
      }
    },
    {
      "cell_type": "code",
      "source": [
        "#Revenue, Top Products, Distribution, and cancellation and return Rates\n",
        "\n",
        "import matplotlib.pyplot as plt\n",
        "import seaborn as sns\n",
        "\n",
        "# Set up the figure and axis\n",
        "fig, axs = plt.subplots(2, 2, figsize=(15, 12))\n",
        "\n",
        "# Plot 1: Total Revenue\n",
        "total_revenue = sales_data['Amount'].sum()\n",
        "axs[0, 0].bar(['Total Revenue'], [total_revenue], color='teal')\n",
        "axs[0, 0].set_title('Total Revenue')\n",
        "axs[0, 0].set_ylabel('Revenue ($)')\n",
        "\n",
        "# Plot 2: Top-Selling Products\n",
        "top_products = sales_data.groupby('SKU')['Amount'].sum().sort_values(ascending=False).head(10).reset_index()\n",
        "sns.barplot(x='Amount', y='SKU', data=top_products, ax=axs[0, 1], palette='viridis', ci=None)\n",
        "axs[0, 1].set_title('Top-Selling Products')\n",
        "axs[0, 1].set_xlabel('Total Sales Amount')\n",
        "\n",
        "# Plot 3: Sales Amount Distribution\n",
        "sns.histplot(sales_data['Amount'], kde=True, ax=axs[1, 0], color='purple')\n",
        "axs[1, 0].set_title('Distribution of Sales Amounts')\n",
        "axs[1, 0].set_xlabel('Sales Amount')\n",
        "axs[1, 0].set_ylabel('Frequency')\n",
        "\n",
        "# Plot 4: Return and Cancellation Rate\n",
        "cancellation_rate = (sales_data[sales_data['Status'] == 'Cancelled'].shape[0] / sales_data.shape[0]) * 100\n",
        "return_rate = (sales_data[sales_data['Status'] == 'Returned'].shape[0] / sales_data.shape[0]) * 100\n",
        "rates = [cancellation_rate, return_rate]\n",
        "rate_labels = ['Cancellation Rate', 'Return Rate']\n",
        "axs[1, 1].bar(rate_labels, rates, color=['red', 'brown'])\n",
        "axs[1, 1].set_title('Cancellation and Return Rates')\n",
        "axs[1, 1].set_ylabel('Rate (%)')\n",
        "\n",
        "# Adjust layout\n",
        "plt.tight_layout()\n",
        "plt.show()\n"
      ],
      "metadata": {
        "colab": {
          "base_uri": "https://localhost:8080/",
          "height": 924
        },
        "id": "2wFiC23ovdEF",
        "outputId": "0e3fae50-59bd-4588-a481-c038c4bddb76"
      },
      "execution_count": null,
      "outputs": [
        {
          "output_type": "stream",
          "name": "stderr",
          "text": [
            "<ipython-input-74-ba80edea1332>:17: FutureWarning: \n",
            "\n",
            "The `ci` parameter is deprecated. Use `errorbar=None` for the same effect.\n",
            "\n",
            "  sns.barplot(x='Amount', y='SKU', data=top_products, ax=axs[0, 1], palette='viridis', ci=None)\n",
            "<ipython-input-74-ba80edea1332>:17: FutureWarning: \n",
            "\n",
            "Passing `palette` without assigning `hue` is deprecated and will be removed in v0.14.0. Assign the `y` variable to `hue` and set `legend=False` for the same effect.\n",
            "\n",
            "  sns.barplot(x='Amount', y='SKU', data=top_products, ax=axs[0, 1], palette='viridis', ci=None)\n"
          ]
        },
        {
          "output_type": "display_data",
          "data": {
            "text/plain": [
              "<Figure size 1500x1200 with 4 Axes>"
            ],
            "image/png": "[encoded data removed]"
          },
          "metadata": {}
        }
      ]
    },
    {
      "cell_type": "markdown",
      "source": [
        "**The Insights of the above visualization are:**\n",
        "\n",
        "*   **Total Revenue:** Shows the total revenue from the datset.\n",
        "*   **Top-Selling Products**: Displays the top 10 products by total sales amount.\n",
        "*   **Sales Amount Distribution:** Shows the distribution of sales amounts using a histogram with a KDE plot.\n",
        "*   **Return and Cancellation Rates:** Compares the rates of order cancellations and returns.\n",
        "\n",
        "\n",
        "\n",
        "\n",
        "\n",
        "\n",
        "\n"
      ],
      "metadata": {
        "id": "G1X29kRtvuVF"
      }
    }
  ]
}